{
 "cells": [
  {
   "cell_type": "code",
   "execution_count": 1,
   "id": "electrical-response",
   "metadata": {},
   "outputs": [],
   "source": [
    "\"\"\"\n",
    "Все машинки немного разные. Для каждой нужно подобрать диапазоны регулирования серв.\n",
    "Этот ноутбук нужен именно для этого.\n",
    "\n",
    "Ещё могут быть перепутаны вертикальная и горизонтальная серва камеры. (каналы 0 и 1)\n",
    "\n",
    "Серва не должна перенапрягаться. \n",
    "Нужно подобрать такие значения, чтобы в тот момент, когда серва закончила движение, от неё не было слышно никаких звуков.\n",
    "Ещё критерий: при дальнейшем увеличении значения серва дальше не движется.\n",
    "\"\"\"\n",
    "from Raspi_MotorHAT import Raspi_PWM_Servo_Driver\n",
    "import time\n",
    "pwm1 = Raspi_PWM_Servo_Driver.PWM(0x70)\n",
    "\n",
    "# можно попробовать другую частоту\n",
    "pwm1.setPWMFreq(250)\n",
    "\n",
    "#pwm1.setPWMFreq(60) - вообще по спецификации 60Гц. Но тогда и на ШИМ двигателя тоже пойдёт 60. \n",
    "#Сделать разные частоты у меня не вышло\n",
    "\n",
    "pwm1.setPWM(14, 0, 0)\n",
    "pwm1.setPWM(0, 0, 0)\n",
    "pwm1.setPWM(1, 0, 0)"
   ]
  },
  {
   "cell_type": "code",
   "execution_count": 2,
   "id": "domestic-department",
   "metadata": {},
   "outputs": [],
   "source": [
    "\"\"\"\n",
    "Камера вниз. До упора не обязательно, там бампер снизу мешает.\n",
    "\"\"\"\n",
    "cam_down = 2000\n",
    "pwm1.setPWM(0, 0, cam_down)"
   ]
  },
  {
   "cell_type": "code",
   "execution_count": 3,
   "id": "dated-arbitration",
   "metadata": {},
   "outputs": [],
   "source": [
    "\"\"\"\n",
    "Камера вверх.\n",
    "\"\"\"\n",
    "cam_up = 800\n",
    "pwm1.setPWM(0, 0, cam_up)"
   ]
  },
  {
   "cell_type": "code",
   "execution_count": 4,
   "id": "brutal-question",
   "metadata": {},
   "outputs": [],
   "source": [
    "\"\"\"\n",
    "Влево-вправо желательно поставить под прямым углом.\n",
    "\"\"\"\n",
    "cam_left = 2650\n",
    "pwm1.setPWM(1, 0, cam_left)"
   ]
  },
  {
   "cell_type": "code",
   "execution_count": 5,
   "id": "elegant-connection",
   "metadata": {},
   "outputs": [],
   "source": [
    "cam_right = 490\n",
    "pwm1.setPWM(1, 0, cam_right)"
   ]
  },
  {
   "cell_type": "code",
   "execution_count": 6,
   "id": "terminal-effect",
   "metadata": {},
   "outputs": [],
   "source": [
    "steer_left = 2700\n",
    "pwm1.setPWM(14, 0, steer_left)"
   ]
  },
  {
   "cell_type": "code",
   "execution_count": 7,
   "id": "convertible-muslim",
   "metadata": {},
   "outputs": [],
   "source": [
    "steer_right = 2150\n",
    "pwm1.setPWM(14, 0, steer_right)"
   ]
  },
  {
   "cell_type": "code",
   "execution_count": 10,
   "id": "concerned-drain",
   "metadata": {},
   "outputs": [
    {
     "name": "stdout",
     "output_type": "stream",
     "text": [
      "cam_up=800\n",
      "cam_down=2000\n",
      "cam_left=2650\n",
      "cam_right=490\n",
      "steer_left=2700\n",
      "steer_right=2150\n"
     ]
    }
   ],
   "source": [
    "\"\"\"\n",
    "Подобранные значения нужно перенести в другие скрипты\n",
    "\"\"\"\n",
    "print(f\"cam_up={cam_up}\")\n",
    "print(f\"cam_down={cam_down}\")\n",
    "print(f\"cam_left={cam_left}\")\n",
    "print(f\"cam_right={cam_right}\")\n",
    "print(f\"steer_left={steer_left}\")\n",
    "print(f\"steer_right={steer_right}\")"
   ]
  },
  {
   "cell_type": "code",
   "execution_count": 9,
   "id": "excess-storage",
   "metadata": {},
   "outputs": [
    {
     "ename": "KeyboardInterrupt",
     "evalue": "",
     "output_type": "error",
     "traceback": [
      "\u001b[0;31m---------------------------------------------------------------------------\u001b[0m",
      "\u001b[0;31mKeyboardInterrupt\u001b[0m                         Traceback (most recent call last)",
      "\u001b[0;32m<ipython-input-9-46ea56a3d37a>\u001b[0m in \u001b[0;36m<module>\u001b[0;34m\u001b[0m\n\u001b[1;32m     29\u001b[0m     \u001b[0;32mif\u001b[0m \u001b[0mcam_rotat\u001b[0m \u001b[0;34m>=\u001b[0m \u001b[0mcam_hor_max\u001b[0m \u001b[0;32mor\u001b[0m \u001b[0mcam_rotat\u001b[0m \u001b[0;34m<=\u001b[0m \u001b[0mcam_hor_min\u001b[0m\u001b[0;34m:\u001b[0m\u001b[0;34m\u001b[0m\u001b[0;34m\u001b[0m\u001b[0m\n\u001b[1;32m     30\u001b[0m         \u001b[0mcam_rotat_w\u001b[0m \u001b[0;34m=\u001b[0m \u001b[0;34m-\u001b[0m\u001b[0mcam_rotat_w\u001b[0m\u001b[0;34m\u001b[0m\u001b[0;34m\u001b[0m\u001b[0m\n\u001b[0;32m---> 31\u001b[0;31m     \u001b[0mtime\u001b[0m\u001b[0;34m.\u001b[0m\u001b[0msleep\u001b[0m\u001b[0;34m(\u001b[0m\u001b[0;36m0.001\u001b[0m\u001b[0;34m)\u001b[0m\u001b[0;34m\u001b[0m\u001b[0;34m\u001b[0m\u001b[0m\n\u001b[0m",
      "\u001b[0;31mKeyboardInterrupt\u001b[0m: "
     ]
    }
   ],
   "source": [
    "\"\"\"\n",
    "Проверка\n",
    "\"\"\"\n",
    "steer = steer_right\n",
    "steer_w = 3\n",
    "cam_height = cam_up\n",
    "cam_height_w = 3\n",
    "cam_rotat = cam_right\n",
    "cam_rotat_w = 3\n",
    "\n",
    "steer_min = min(steer_left, steer_right)\n",
    "steer_max = max(steer_left, steer_right)\n",
    "cam_hor_min = min(cam_left, cam_right)\n",
    "cam_hor_max = max(cam_left, cam_right)\n",
    "cam_ver_min = min(cam_up, cam_down)\n",
    "cam_ver_max = max(cam_up, cam_down)\n",
    "\n",
    "while True:\n",
    "    pwm1.setPWM(14, 0, steer)\n",
    "    pwm1.setPWM(0, 0, cam_height)\n",
    "    pwm1.setPWM(1, 0, cam_rotat)\n",
    "    steer += steer_w\n",
    "    cam_height += cam_height_w\n",
    "    cam_rotat += cam_rotat_w\n",
    "    if steer >= steer_max or steer <= steer_min:\n",
    "        steer_w = -steer_w\n",
    "    if cam_height >= cam_ver_max or cam_height <= cam_ver_min:\n",
    "        cam_height_w = -cam_height_w\n",
    "    if cam_rotat >= cam_hor_max or cam_rotat <= cam_hor_min:\n",
    "        cam_rotat_w = -cam_rotat_w\n",
    "    time.sleep(0.001)"
   ]
  },
  {
   "cell_type": "code",
   "execution_count": null,
   "id": "later-affairs",
   "metadata": {},
   "outputs": [],
   "source": []
  }
 ],
 "metadata": {
  "kernelspec": {
   "display_name": "Python 3",
   "language": "python",
   "name": "python3"
  },
  "language_info": {
   "codemirror_mode": {
    "name": "ipython",
    "version": 3
   },
   "file_extension": ".py",
   "mimetype": "text/x-python",
   "name": "python",
   "nbconvert_exporter": "python",
   "pygments_lexer": "ipython3",
   "version": "3.7.3"
  }
 },
 "nbformat": 4,
 "nbformat_minor": 5
}
