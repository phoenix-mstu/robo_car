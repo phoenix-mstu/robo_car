{
 "cells": [
  {
   "cell_type": "code",
   "execution_count": null,
   "id": "polyphonic-passing",
   "metadata": {},
   "outputs": [],
   "source": [
    "\"\"\"\n",
    "УБЕДИСЬ ЧТО МАШИНКА НЕ РАСШИБЁТСЯ ОБ СТЕНУ. \n",
    "Лучше возьми её в руки перед запуском этого.\n",
    "\n",
    "Если готов, раскомментируй код ниже и запускай.\n",
    "\"\"\""
   ]
  },
  {
   "cell_type": "code",
   "execution_count": 1,
   "id": "assumed-suspect",
   "metadata": {},
   "outputs": [],
   "source": [
    "from Raspi_MotorHAT import Raspi_MotorHAT\n",
    "motor = Raspi_MotorHAT(addr=0x6f, freq=250).getMotor(1)\n",
    "\n",
    "def motor_brk():\n",
    "    global motor\n",
    "    # не понятно почему этот метод не заимплеменчен в Raspi_DCMotor\n",
    "    motor.MC.setPin(motor.IN1pin, 1)\n",
    "    motor.MC.setPin(motor.IN2pin, 1)\n",
    "\n",
    "def motor_fwd(speed):\n",
    "    global motor\n",
    "    motor.setSpeed(speed)\n",
    "    motor.run(Raspi_MotorHAT.FORWARD)\n",
    "\n",
    "def motor_bac(speed):\n",
    "    global motor\n",
    "    motor.setSpeed(speed)\n",
    "    motor.run(Raspi_MotorHAT.BACKWARD)\n",
    "    \n",
    "def motor_rel():\n",
    "    global motor\n",
    "    motor.run(Raspi_MotorHAT.RELEASE)"
   ]
  },
  {
   "cell_type": "code",
   "execution_count": 3,
   "id": "alpine-hampton",
   "metadata": {},
   "outputs": [],
   "source": [
    "\"\"\"\n",
    "1) Запускаем двигатель\n",
    "2) Резко тормозим\n",
    "3) Запускаем в обратную сторону\n",
    "4) Отключаем двигатель без торможения\n",
    "\"\"\"\n",
    "import time\n",
    "\n",
    "# можно попробовать другую скорость. Максимум 255. Это очень быстро,\n",
    "# использовать больше 100 во время игры наверно не стоит\n",
    "\n",
    "# motor_fwd(50)\n",
    "# time.sleep(2)\n",
    "# motor_brk()\n",
    "# time.sleep(1)\n",
    "# motor_bac(50)\n",
    "# time.sleep(2)\n",
    "# motor_rel()"
   ]
  },
  {
   "cell_type": "code",
   "execution_count": null,
   "id": "mature-bunch",
   "metadata": {},
   "outputs": [],
   "source": []
  },
  {
   "cell_type": "code",
   "execution_count": null,
   "id": "ordinary-exchange",
   "metadata": {},
   "outputs": [],
   "source": []
  }
 ],
 "metadata": {
  "kernelspec": {
   "display_name": "Python 3",
   "language": "python",
   "name": "python3"
  },
  "language_info": {
   "codemirror_mode": {
    "name": "ipython",
    "version": 3
   },
   "file_extension": ".py",
   "mimetype": "text/x-python",
   "name": "python",
   "nbconvert_exporter": "python",
   "pygments_lexer": "ipython3",
   "version": "3.7.3"
  }
 },
 "nbformat": 4,
 "nbformat_minor": 5
}